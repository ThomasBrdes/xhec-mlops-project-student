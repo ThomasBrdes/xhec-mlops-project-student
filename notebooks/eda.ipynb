{
 "cells": [
  {
   "attachments": {},
   "cell_type": "markdown",
   "metadata": {},
   "source": [
    "# EDA (Exploratory Data Analysis) of the dataset\n",
    "\n",
    "In this notebook, explore the Abalone dataset, by showing relevant visualizations that help understand the problem you are modelling.\n",
    "\n",
    "Please make sure to write down your conclusions in the final notebook and to remove these intructions."
   ]
  },
  {
   "attachments": {},
   "cell_type": "markdown",
   "metadata": {},
   "source": [
    "# Imports"
   ]
  },
  {
   "cell_type": "code",
   "execution_count": 1,
   "metadata": {},
   "outputs": [
    {
     "name": "stderr",
     "output_type": "stream",
     "text": [
      "[autoreload of traitlets.traitlets failed: Traceback (most recent call last):\n",
      "  File \"c:\\Users\\Thomas\\anaconda3\\envs\\artefact_env\\lib\\site-packages\\IPython\\extensions\\autoreload.py\", line 273, in check\n",
      "    if self.autoload_obj:\n",
      "  File \"c:\\Users\\Thomas\\anaconda3\\envs\\artefact_env\\lib\\site-packages\\IPython\\extensions\\autoreload.py\", line 496, in superreload\n",
      "    old_obj = old_ref()\n",
      "  File \"c:\\Users\\Thomas\\anaconda3\\envs\\artefact_env\\lib\\site-packages\\IPython\\extensions\\autoreload.py\", line 393, in update_generic\n",
      "  File \"c:\\Users\\Thomas\\anaconda3\\envs\\artefact_env\\lib\\site-packages\\IPython\\extensions\\autoreload.py\", line 361, in update_class\n",
      "    except (AttributeError, TypeError):\n",
      "  File \"c:\\Users\\Thomas\\anaconda3\\envs\\artefact_env\\lib\\site-packages\\IPython\\extensions\\autoreload.py\", line 319, in update_instances\n",
      "    refs = gc.get_referrers(old)\n",
      "TypeError: can't apply this __setattr__ to MetaHasDescriptors object\n",
      "]\n",
      "[autoreload of dateutil.tz._factories failed: Traceback (most recent call last):\n",
      "  File \"c:\\Users\\Thomas\\anaconda3\\envs\\artefact_env\\lib\\site-packages\\IPython\\extensions\\autoreload.py\", line 273, in check\n",
      "    if self.autoload_obj:\n",
      "  File \"c:\\Users\\Thomas\\anaconda3\\envs\\artefact_env\\lib\\site-packages\\IPython\\extensions\\autoreload.py\", line 496, in superreload\n",
      "    old_obj = old_ref()\n",
      "  File \"c:\\Users\\Thomas\\anaconda3\\envs\\artefact_env\\lib\\site-packages\\IPython\\extensions\\autoreload.py\", line 393, in update_generic\n",
      "  File \"c:\\Users\\Thomas\\anaconda3\\envs\\artefact_env\\lib\\site-packages\\IPython\\extensions\\autoreload.py\", line 361, in update_class\n",
      "    except (AttributeError, TypeError):\n",
      "  File \"c:\\Users\\Thomas\\anaconda3\\envs\\artefact_env\\lib\\site-packages\\IPython\\extensions\\autoreload.py\", line 319, in update_instances\n",
      "    refs = gc.get_referrers(old)\n",
      "TypeError: can't apply this __setattr__ to _TzSingleton object\n",
      "]\n",
      "[autoreload of pygments.token failed: Traceback (most recent call last):\n",
      "  File \"c:\\Users\\Thomas\\anaconda3\\envs\\artefact_env\\lib\\site-packages\\IPython\\extensions\\autoreload.py\", line 273, in check\n",
      "    if self.autoload_obj:\n",
      "  File \"c:\\Users\\Thomas\\anaconda3\\envs\\artefact_env\\lib\\site-packages\\IPython\\extensions\\autoreload.py\", line 496, in superreload\n",
      "    old_obj = old_ref()\n",
      "  File \"c:\\Users\\Thomas\\anaconda3\\envs\\artefact_env\\lib\\site-packages\\IPython\\extensions\\autoreload.py\", line 393, in update_generic\n",
      "  File \"c:\\Users\\Thomas\\anaconda3\\envs\\artefact_env\\lib\\site-packages\\IPython\\extensions\\autoreload.py\", line 361, in update_class\n",
      "    except (AttributeError, TypeError):\n",
      "  File \"c:\\Users\\Thomas\\anaconda3\\envs\\artefact_env\\lib\\site-packages\\IPython\\extensions\\autoreload.py\", line 319, in update_instances\n",
      "    refs = gc.get_referrers(old)\n",
      "TypeError: __class__ assignment: '_TokenType' object layout differs from '_TokenType'\n",
      "]\n",
      "[autoreload of pygments.style failed: Traceback (most recent call last):\n",
      "  File \"c:\\Users\\Thomas\\anaconda3\\envs\\artefact_env\\lib\\site-packages\\IPython\\extensions\\autoreload.py\", line 273, in check\n",
      "    if self.autoload_obj:\n",
      "  File \"c:\\Users\\Thomas\\anaconda3\\envs\\artefact_env\\lib\\site-packages\\IPython\\extensions\\autoreload.py\", line 496, in superreload\n",
      "    old_obj = old_ref()\n",
      "  File \"c:\\Users\\Thomas\\anaconda3\\envs\\artefact_env\\lib\\site-packages\\IPython\\extensions\\autoreload.py\", line 393, in update_generic\n",
      "  File \"c:\\Users\\Thomas\\anaconda3\\envs\\artefact_env\\lib\\site-packages\\IPython\\extensions\\autoreload.py\", line 361, in update_class\n",
      "    except (AttributeError, TypeError):\n",
      "  File \"c:\\Users\\Thomas\\anaconda3\\envs\\artefact_env\\lib\\site-packages\\IPython\\extensions\\autoreload.py\", line 319, in update_instances\n",
      "    refs = gc.get_referrers(old)\n",
      "TypeError: can't apply this __setattr__ to StyleMeta object\n",
      "]\n",
      "[autoreload of pygments.lexer failed: Traceback (most recent call last):\n",
      "  File \"c:\\Users\\Thomas\\anaconda3\\envs\\artefact_env\\lib\\site-packages\\IPython\\extensions\\autoreload.py\", line 273, in check\n",
      "    if self.autoload_obj:\n",
      "  File \"c:\\Users\\Thomas\\anaconda3\\envs\\artefact_env\\lib\\site-packages\\IPython\\extensions\\autoreload.py\", line 496, in superreload\n",
      "    old_obj = old_ref()\n",
      "  File \"c:\\Users\\Thomas\\anaconda3\\envs\\artefact_env\\lib\\site-packages\\IPython\\extensions\\autoreload.py\", line 393, in update_generic\n",
      "  File \"c:\\Users\\Thomas\\anaconda3\\envs\\artefact_env\\lib\\site-packages\\IPython\\extensions\\autoreload.py\", line 361, in update_class\n",
      "    except (AttributeError, TypeError):\n",
      "  File \"c:\\Users\\Thomas\\anaconda3\\envs\\artefact_env\\lib\\site-packages\\IPython\\extensions\\autoreload.py\", line 319, in update_instances\n",
      "    refs = gc.get_referrers(old)\n",
      "TypeError: can't apply this __setattr__ to LexerMeta object\n",
      "]\n",
      "[autoreload of parso.normalizer failed: Traceback (most recent call last):\n",
      "  File \"c:\\Users\\Thomas\\anaconda3\\envs\\artefact_env\\lib\\site-packages\\IPython\\extensions\\autoreload.py\", line 273, in check\n",
      "    if self.autoload_obj:\n",
      "  File \"c:\\Users\\Thomas\\anaconda3\\envs\\artefact_env\\lib\\site-packages\\IPython\\extensions\\autoreload.py\", line 496, in superreload\n",
      "    old_obj = old_ref()\n",
      "  File \"c:\\Users\\Thomas\\anaconda3\\envs\\artefact_env\\lib\\site-packages\\IPython\\extensions\\autoreload.py\", line 393, in update_generic\n",
      "  File \"c:\\Users\\Thomas\\anaconda3\\envs\\artefact_env\\lib\\site-packages\\IPython\\extensions\\autoreload.py\", line 361, in update_class\n",
      "    except (AttributeError, TypeError):\n",
      "  File \"c:\\Users\\Thomas\\anaconda3\\envs\\artefact_env\\lib\\site-packages\\IPython\\extensions\\autoreload.py\", line 319, in update_instances\n",
      "    refs = gc.get_referrers(old)\n",
      "TypeError: can't apply this __setattr__ to _NormalizerMeta object\n",
      "]\n",
      "[autoreload of IPython.terminal.shortcuts.auto_suggest failed: Traceback (most recent call last):\n",
      "  File \"c:\\Users\\Thomas\\anaconda3\\envs\\artefact_env\\lib\\site-packages\\IPython\\extensions\\autoreload.py\", line 273, in check\n",
      "    if self.autoload_obj:\n",
      "  File \"c:\\Users\\Thomas\\anaconda3\\envs\\artefact_env\\lib\\site-packages\\IPython\\extensions\\autoreload.py\", line 471, in superreload\n",
      "    except (TypeError, AttributeError, KeyError):\n",
      "  File \"c:\\Users\\Thomas\\anaconda3\\envs\\artefact_env\\lib\\importlib\\__init__.py\", line 169, in reload\n",
      "    _bootstrap._exec(spec, module)\n",
      "  File \"<frozen importlib._bootstrap>\", line 613, in _exec\n",
      "  File \"<frozen importlib._bootstrap_external>\", line 850, in exec_module\n",
      "  File \"<frozen importlib._bootstrap>\", line 228, in _call_with_frames_removed\n",
      "  File \"c:\\Users\\Thomas\\anaconda3\\envs\\artefact_env\\lib\\site-packages\\IPython\\terminal\\shortcuts\\auto_suggest.py\", line 23, in <module>\n",
      "    from .filters import pass_through\n",
      "ImportError: cannot import name 'pass_through' from 'IPython.terminal.shortcuts.filters' (c:\\Users\\Thomas\\anaconda3\\envs\\artefact_env\\lib\\site-packages\\IPython\\terminal\\shortcuts\\filters.py)\n",
      "]\n"
     ]
    },
    {
     "ename": "TypeError",
     "evalue": "isinstance() arg 2 must be a type or tuple of types",
     "output_type": "error",
     "traceback": [
      "\u001b[1;31m---------------------------------------------------------------------------\u001b[0m",
      "\u001b[1;31mTypeError\u001b[0m                                 Traceback (most recent call last)",
      "File \u001b[1;32mc:\\Users\\Thomas\\anaconda3\\envs\\artefact_env\\lib\\site-packages\\IPython\\core\\async_helpers.py:129\u001b[0m, in \u001b[0;36m_pseudo_sync_runner\u001b[1;34m(coro)\u001b[0m\n\u001b[0;32m    121\u001b[0m \u001b[38;5;250m\u001b[39m\u001b[38;5;124;03m\"\"\"\u001b[39;00m\n\u001b[0;32m    122\u001b[0m \u001b[38;5;124;03mA runner that does not really allow async execution, and just advance the coroutine.\u001b[39;00m\n\u001b[0;32m    123\u001b[0m \n\u001b[1;32m   (...)\u001b[0m\n\u001b[0;32m    126\u001b[0m \u001b[38;5;124;03mCredit to Nathaniel Smith\u001b[39;00m\n\u001b[0;32m    127\u001b[0m \u001b[38;5;124;03m\"\"\"\u001b[39;00m\n\u001b[0;32m    128\u001b[0m \u001b[38;5;28;01mtry\u001b[39;00m:\n\u001b[1;32m--> 129\u001b[0m     \u001b[43mcoro\u001b[49m\u001b[38;5;241;43m.\u001b[39;49m\u001b[43msend\u001b[49m\u001b[43m(\u001b[49m\u001b[38;5;28;43;01mNone\u001b[39;49;00m\u001b[43m)\u001b[49m\n\u001b[0;32m    130\u001b[0m \u001b[38;5;28;01mexcept\u001b[39;00m \u001b[38;5;167;01mStopIteration\u001b[39;00m \u001b[38;5;28;01mas\u001b[39;00m exc:\n\u001b[0;32m    131\u001b[0m     \u001b[38;5;28;01mreturn\u001b[39;00m exc\u001b[38;5;241m.\u001b[39mvalue\n",
      "File \u001b[1;32mc:\\Users\\Thomas\\anaconda3\\envs\\artefact_env\\lib\\site-packages\\IPython\\core\\interactiveshell.py:3260\u001b[0m, in \u001b[0;36mrun_cell_async\u001b[1;34m(self, raw_cell, store_history, silent, shell_futures, transformed_cell, preprocessing_exc_tuple, cell_id)\u001b[0m\n\u001b[0;32m   3258\u001b[0m     etype, value, tb \u001b[38;5;241m=\u001b[39m sys\u001b[38;5;241m.\u001b[39mexc_info()\n\u001b[0;32m   3259\u001b[0m     \u001b[38;5;28mself\u001b[39m\u001b[38;5;241m.\u001b[39mCustomTB(etype, value, tb)\n\u001b[1;32m-> 3260\u001b[0m     \u001b[38;5;28;01mreturn\u001b[39;00m error_before_exec(e)\n\u001b[0;32m   3261\u001b[0m \u001b[38;5;28;01mexcept\u001b[39;00m \u001b[38;5;167;01mIndentationError\u001b[39;00m \u001b[38;5;28;01mas\u001b[39;00m e:\n\u001b[0;32m   3262\u001b[0m     \u001b[38;5;28mself\u001b[39m\u001b[38;5;241m.\u001b[39mshowindentationerror()\n",
      "File \u001b[1;32mc:\\Users\\Thomas\\anaconda3\\envs\\artefact_env\\lib\\site-packages\\traitlets\\traitlets.py:748\u001b[0m, in \u001b[0;36mTraitType.__set__\u001b[1;34m(self, obj, value)\u001b[0m\n\u001b[0;32m    746\u001b[0m     \u001b[38;5;28;01mraise\u001b[39;00m TraitError(\u001b[38;5;124m'\u001b[39m\u001b[38;5;124mThe \u001b[39m\u001b[38;5;124m\"\u001b[39m\u001b[38;5;132;01m%s\u001b[39;00m\u001b[38;5;124m\"\u001b[39m\u001b[38;5;124m trait is read-only.\u001b[39m\u001b[38;5;124m'\u001b[39m \u001b[38;5;241m%\u001b[39m \u001b[38;5;28mself\u001b[39m\u001b[38;5;241m.\u001b[39mname)\n\u001b[0;32m    747\u001b[0m \u001b[38;5;28;01melse\u001b[39;00m:\n\u001b[1;32m--> 748\u001b[0m     \u001b[38;5;28;43mself\u001b[39;49m\u001b[38;5;241;43m.\u001b[39;49m\u001b[43mset\u001b[49m\u001b[43m(\u001b[49m\u001b[43mobj\u001b[49m\u001b[43m,\u001b[49m\u001b[43m \u001b[49m\u001b[43mvalue\u001b[49m\u001b[43m)\u001b[49m\n",
      "File \u001b[1;32mc:\\Users\\Thomas\\anaconda3\\envs\\artefact_env\\lib\\site-packages\\traitlets\\traitlets.py:722\u001b[0m, in \u001b[0;36mTraitType.set\u001b[1;34m(self, obj, value)\u001b[0m\n\u001b[0;32m    721\u001b[0m \u001b[38;5;28;01mdef\u001b[39;00m \u001b[38;5;21mset\u001b[39m(\u001b[38;5;28mself\u001b[39m, obj, value):\n\u001b[1;32m--> 722\u001b[0m     new_value \u001b[38;5;241m=\u001b[39m \u001b[38;5;28;43mself\u001b[39;49m\u001b[38;5;241;43m.\u001b[39;49m\u001b[43m_validate\u001b[49m\u001b[43m(\u001b[49m\u001b[43mobj\u001b[49m\u001b[43m,\u001b[49m\u001b[43m \u001b[49m\u001b[43mvalue\u001b[49m\u001b[43m)\u001b[49m\n\u001b[0;32m    723\u001b[0m     \u001b[38;5;28;01mtry\u001b[39;00m:\n\u001b[0;32m    724\u001b[0m         old_value \u001b[38;5;241m=\u001b[39m obj\u001b[38;5;241m.\u001b[39m_trait_values[\u001b[38;5;28mself\u001b[39m\u001b[38;5;241m.\u001b[39mname]\n",
      "File \u001b[1;32mc:\\Users\\Thomas\\anaconda3\\envs\\artefact_env\\lib\\site-packages\\traitlets\\traitlets.py:754\u001b[0m, in \u001b[0;36mTraitType._validate\u001b[1;34m(self, obj, value)\u001b[0m\n\u001b[0;32m    752\u001b[0m     \u001b[38;5;28;01mreturn\u001b[39;00m value\n\u001b[0;32m    753\u001b[0m \u001b[38;5;28;01mif\u001b[39;00m \u001b[38;5;28mhasattr\u001b[39m(\u001b[38;5;28mself\u001b[39m, \u001b[38;5;124m\"\u001b[39m\u001b[38;5;124mvalidate\u001b[39m\u001b[38;5;124m\"\u001b[39m):\n\u001b[1;32m--> 754\u001b[0m     value \u001b[38;5;241m=\u001b[39m \u001b[38;5;28;43mself\u001b[39;49m\u001b[38;5;241;43m.\u001b[39;49m\u001b[43mvalidate\u001b[49m\u001b[43m(\u001b[49m\u001b[43mobj\u001b[49m\u001b[43m,\u001b[49m\u001b[43m \u001b[49m\u001b[43mvalue\u001b[49m\u001b[43m)\u001b[49m\n\u001b[0;32m    755\u001b[0m \u001b[38;5;28;01mif\u001b[39;00m obj\u001b[38;5;241m.\u001b[39m_cross_validation_lock \u001b[38;5;129;01mis\u001b[39;00m \u001b[38;5;28;01mFalse\u001b[39;00m:\n\u001b[0;32m    756\u001b[0m     value \u001b[38;5;241m=\u001b[39m \u001b[38;5;28mself\u001b[39m\u001b[38;5;241m.\u001b[39m_cross_validate(obj, value)\n",
      "File \u001b[1;32mc:\\Users\\Thomas\\anaconda3\\envs\\artefact_env\\lib\\site-packages\\traitlets\\traitlets.py:2316\u001b[0m, in \u001b[0;36mInstance.validate\u001b[1;34m(self, obj, value)\u001b[0m\n\u001b[0;32m   2314\u001b[0m \u001b[38;5;28;01mdef\u001b[39;00m \u001b[38;5;21mvalidate\u001b[39m(\u001b[38;5;28mself\u001b[39m, obj, value):\n\u001b[0;32m   2315\u001b[0m     \u001b[38;5;28;01massert\u001b[39;00m \u001b[38;5;28mself\u001b[39m\u001b[38;5;241m.\u001b[39mklass \u001b[38;5;129;01mis\u001b[39;00m \u001b[38;5;129;01mnot\u001b[39;00m \u001b[38;5;28;01mNone\u001b[39;00m\n\u001b[1;32m-> 2316\u001b[0m     \u001b[38;5;28;01mif\u001b[39;00m \u001b[38;5;28;43misinstance\u001b[39;49m\u001b[43m(\u001b[49m\u001b[43mvalue\u001b[49m\u001b[43m,\u001b[49m\u001b[43m \u001b[49m\u001b[38;5;28;43mself\u001b[39;49m\u001b[38;5;241;43m.\u001b[39;49m\u001b[43mklass\u001b[49m\u001b[43m)\u001b[49m:  \u001b[38;5;66;03m# type:ignore[arg-type]\u001b[39;00m\n\u001b[0;32m   2317\u001b[0m         \u001b[38;5;28;01mreturn\u001b[39;00m value\n\u001b[0;32m   2318\u001b[0m     \u001b[38;5;28;01melse\u001b[39;00m:\n",
      "\u001b[1;31mTypeError\u001b[0m: isinstance() arg 2 must be a type or tuple of types"
     ]
    }
   ],
   "source": [
    "%load_ext autoreload\n",
    "%autoreload 2\n",
    "\n",
    "import numpy as np\n",
    "import pandas as pd\n",
    "import matplotlib.pyplot as plt\n",
    "import seaborn as sns\n",
    "\n",
    "%matplotlib inline\n",
    "\n",
    "pd.set_option(\"display.max_columns\", 500)"
   ]
  },
  {
   "attachments": {},
   "cell_type": "markdown",
   "metadata": {},
   "source": [
    "# Data"
   ]
  },
  {
   "cell_type": "code",
   "execution_count": null,
   "metadata": {},
   "outputs": [],
   "source": [
    "df = pd.read_csv(\"../data/abalone.csv\")\n",
    "df"
   ]
  },
  {
   "attachments": {},
   "cell_type": "markdown",
   "metadata": {},
   "source": [
    "# EDA"
   ]
  },
  {
   "cell_type": "code",
   "execution_count": null,
   "metadata": {},
   "outputs": [],
   "source": [
    "df.describe()"
   ]
  },
  {
   "cell_type": "code",
   "execution_count": null,
   "metadata": {},
   "outputs": [],
   "source": [
    "df.hist(figsize=(20, 10), grid=False, layout=(2, 4), bins=30)"
   ]
  },
  {
   "cell_type": "code",
   "execution_count": 5,
   "metadata": {},
   "outputs": [],
   "source": [
    "numerical_features = df.select_dtypes(include=[np.number]).columns\n",
    "categorical_features = df.select_dtypes(include=[object]).columns"
   ]
  },
  {
   "cell_type": "code",
   "execution_count": null,
   "metadata": {},
   "outputs": [],
   "source": [
    "numerical_features"
   ]
  },
  {
   "cell_type": "code",
   "execution_count": null,
   "metadata": {},
   "outputs": [],
   "source": [
    "categorical_features"
   ]
  },
  {
   "cell_type": "markdown",
   "metadata": {},
   "source": [
    "## Bivariate Analysis\n",
    "Bivariate analysis is vital part of data analysis process for, it gives clear picture on how each features are affected in presence of other features.\n",
    "It also helps us understand and identify significance features, overcome multi-collinearity effect, inter-dependency and thus, provides insights on hidden data noise pattern."
   ]
  },
  {
   "cell_type": "code",
   "execution_count": null,
   "metadata": {},
   "outputs": [],
   "source": [
    "sns.pairplot(df[numerical_features])"
   ]
  },
  {
   "cell_type": "code",
   "execution_count": null,
   "metadata": {},
   "outputs": [],
   "source": [
    "plt.figure(figsize=(20, 7))\n",
    "sns.heatmap(df[numerical_features].corr(), annot=True)"
   ]
  },
  {
   "cell_type": "markdown",
   "metadata": {},
   "source": [
    "- Whole Weight is almost linearly varying with all other features except age\n",
    "- Heigh has least linearity with remaining features\n",
    "- Age is most linearly proprtional with Shell Weight followed by Diameter and length\n",
    "- Age is least correlated with Shucked Weight"
   ]
  },
  {
   "cell_type": "markdown",
   "metadata": {},
   "source": [
    "Such high correlation coefficients among features can result into multi-collinearity."
   ]
  },
  {
   "cell_type": "markdown",
   "metadata": {},
   "source": [
    "## Outliers handlings"
   ]
  },
  {
   "cell_type": "code",
   "execution_count": 10,
   "metadata": {},
   "outputs": [],
   "source": [
    "data = pd.get_dummies(df)\n",
    "dummy_data = data.copy()"
   ]
  },
  {
   "cell_type": "code",
   "execution_count": null,
   "metadata": {},
   "outputs": [],
   "source": [
    "data.boxplot(rot=90, figsize=(20, 5))"
   ]
  },
  {
   "cell_type": "code",
   "execution_count": null,
   "metadata": {},
   "outputs": [],
   "source": [
    "var = \"Viscera weight\"\n",
    "plt.scatter(\n",
    "    x=data[var],\n",
    "    y=data[\"Rings\"],\n",
    ")\n",
    "plt.grid(True)"
   ]
  },
  {
   "cell_type": "code",
   "execution_count": null,
   "metadata": {},
   "outputs": [],
   "source": [
    "var = \"Shell weight\"\n",
    "plt.scatter(\n",
    "    x=data[var],\n",
    "    y=data[\"Rings\"],\n",
    ")\n",
    "plt.grid(True)"
   ]
  },
  {
   "cell_type": "code",
   "execution_count": null,
   "metadata": {},
   "outputs": [],
   "source": [
    "var = \"Shucked weight\"\n",
    "plt.scatter(\n",
    "    x=data[var],\n",
    "    y=data[\"Rings\"],\n",
    ")\n",
    "plt.grid(True)"
   ]
  },
  {
   "cell_type": "code",
   "execution_count": null,
   "metadata": {},
   "outputs": [],
   "source": [
    "var = \"Diameter\"\n",
    "plt.scatter(\n",
    "    x=data[var],\n",
    "    y=data[\"Rings\"],\n",
    ")\n",
    "plt.grid(True)"
   ]
  },
  {
   "cell_type": "code",
   "execution_count": null,
   "metadata": {},
   "outputs": [],
   "source": [
    "var = \"Height\"\n",
    "plt.scatter(\n",
    "    x=data[var],\n",
    "    y=data[\"Rings\"],\n",
    ")\n",
    "plt.grid(True)"
   ]
  }
 ],
 "metadata": {
  "kernelspec": {
   "display_name": "artefact_env",
   "language": "python",
   "name": "python3"
  },
  "language_info": {
   "codemirror_mode": {
    "name": "ipython",
    "version": 3
   },
   "file_extension": ".py",
   "mimetype": "text/x-python",
   "name": "python",
   "nbconvert_exporter": "python",
   "pygments_lexer": "ipython3",
   "version": "3.9.20"
  },
  "orig_nbformat": 4
 },
 "nbformat": 4,
 "nbformat_minor": 2
}
