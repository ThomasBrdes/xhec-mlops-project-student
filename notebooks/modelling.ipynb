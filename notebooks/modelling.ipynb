{
 "cells": [
  {
   "attachments": {},
   "cell_type": "markdown",
   "metadata": {},
   "source": [
    "In this notebook, you should implement a first version of a working machine learning model to predict the age of an Abalone.\n",
    "\n",
    "A few guidelines:\n",
    "- The model does not have to be complex. A simple linear regression model is enough.\n",
    "- You should use MLflow to track your experiments. You can use the MLflow UI to compare your experiments.\n",
    "- Do not push any MLflow data to the repository. Only the code to run the experiments is interesting and should be pushed."
   ]
  },
  {
   "cell_type": "code",
   "execution_count": 1,
   "metadata": {},
   "outputs": [],
   "source": [
    "%load_ext autoreload\n",
    "%autoreload 2\n",
    "\n",
    "from sklearn.preprocessing import StandardScaler\n",
    "from sklearn.model_selection import train_test_split\n",
    "from sklearn.feature_selection import SelectKBest\n",
    "from sklearn.metrics import mean_squared_error\n",
    "\n",
    "from sklearn.neighbors import KNeighborsRegressor\n",
    "from sklearn.ensemble import RandomForestRegressor\n",
    "from sklearn.linear_model import LinearRegression\n",
    "from sklearn.ensemble import GradientBoostingRegressor\n",
    "from sklearn.linear_model import Ridge\n",
    "from sklearn.svm import SVR\n",
    "\n",
    "import numpy as np\n",
    "import pandas as pd\n",
    "\n",
    "%matplotlib inline"
   ]
  },
  {
   "cell_type": "code",
   "execution_count": 3,
   "metadata": {},
   "outputs": [
    {
     "data": {
      "text/html": [
       "<div>\n",
       "<style scoped>\n",
       "    .dataframe tbody tr th:only-of-type {\n",
       "        vertical-align: middle;\n",
       "    }\n",
       "\n",
       "    .dataframe tbody tr th {\n",
       "        vertical-align: top;\n",
       "    }\n",
       "\n",
       "    .dataframe thead th {\n",
       "        text-align: right;\n",
       "    }\n",
       "</style>\n",
       "<table border=\"1\" class=\"dataframe\">\n",
       "  <thead>\n",
       "    <tr style=\"text-align: right;\">\n",
       "      <th></th>\n",
       "      <th>Sex</th>\n",
       "      <th>Length</th>\n",
       "      <th>Diameter</th>\n",
       "      <th>Height</th>\n",
       "      <th>Whole weight</th>\n",
       "      <th>Shucked weight</th>\n",
       "      <th>Viscera weight</th>\n",
       "      <th>Shell weight</th>\n",
       "      <th>Rings</th>\n",
       "    </tr>\n",
       "  </thead>\n",
       "  <tbody>\n",
       "    <tr>\n",
       "      <th>0</th>\n",
       "      <td>M</td>\n",
       "      <td>0.455</td>\n",
       "      <td>0.365</td>\n",
       "      <td>0.095</td>\n",
       "      <td>0.5140</td>\n",
       "      <td>0.2245</td>\n",
       "      <td>0.1010</td>\n",
       "      <td>0.1500</td>\n",
       "      <td>15</td>\n",
       "    </tr>\n",
       "    <tr>\n",
       "      <th>1</th>\n",
       "      <td>M</td>\n",
       "      <td>0.350</td>\n",
       "      <td>0.265</td>\n",
       "      <td>0.090</td>\n",
       "      <td>0.2255</td>\n",
       "      <td>0.0995</td>\n",
       "      <td>0.0485</td>\n",
       "      <td>0.0700</td>\n",
       "      <td>7</td>\n",
       "    </tr>\n",
       "    <tr>\n",
       "      <th>2</th>\n",
       "      <td>F</td>\n",
       "      <td>0.530</td>\n",
       "      <td>0.420</td>\n",
       "      <td>0.135</td>\n",
       "      <td>0.6770</td>\n",
       "      <td>0.2565</td>\n",
       "      <td>0.1415</td>\n",
       "      <td>0.2100</td>\n",
       "      <td>9</td>\n",
       "    </tr>\n",
       "    <tr>\n",
       "      <th>3</th>\n",
       "      <td>M</td>\n",
       "      <td>0.440</td>\n",
       "      <td>0.365</td>\n",
       "      <td>0.125</td>\n",
       "      <td>0.5160</td>\n",
       "      <td>0.2155</td>\n",
       "      <td>0.1140</td>\n",
       "      <td>0.1550</td>\n",
       "      <td>10</td>\n",
       "    </tr>\n",
       "    <tr>\n",
       "      <th>4</th>\n",
       "      <td>I</td>\n",
       "      <td>0.330</td>\n",
       "      <td>0.255</td>\n",
       "      <td>0.080</td>\n",
       "      <td>0.2050</td>\n",
       "      <td>0.0895</td>\n",
       "      <td>0.0395</td>\n",
       "      <td>0.0550</td>\n",
       "      <td>7</td>\n",
       "    </tr>\n",
       "    <tr>\n",
       "      <th>...</th>\n",
       "      <td>...</td>\n",
       "      <td>...</td>\n",
       "      <td>...</td>\n",
       "      <td>...</td>\n",
       "      <td>...</td>\n",
       "      <td>...</td>\n",
       "      <td>...</td>\n",
       "      <td>...</td>\n",
       "      <td>...</td>\n",
       "    </tr>\n",
       "    <tr>\n",
       "      <th>4172</th>\n",
       "      <td>F</td>\n",
       "      <td>0.565</td>\n",
       "      <td>0.450</td>\n",
       "      <td>0.165</td>\n",
       "      <td>0.8870</td>\n",
       "      <td>0.3700</td>\n",
       "      <td>0.2390</td>\n",
       "      <td>0.2490</td>\n",
       "      <td>11</td>\n",
       "    </tr>\n",
       "    <tr>\n",
       "      <th>4173</th>\n",
       "      <td>M</td>\n",
       "      <td>0.590</td>\n",
       "      <td>0.440</td>\n",
       "      <td>0.135</td>\n",
       "      <td>0.9660</td>\n",
       "      <td>0.4390</td>\n",
       "      <td>0.2145</td>\n",
       "      <td>0.2605</td>\n",
       "      <td>10</td>\n",
       "    </tr>\n",
       "    <tr>\n",
       "      <th>4174</th>\n",
       "      <td>M</td>\n",
       "      <td>0.600</td>\n",
       "      <td>0.475</td>\n",
       "      <td>0.205</td>\n",
       "      <td>1.1760</td>\n",
       "      <td>0.5255</td>\n",
       "      <td>0.2875</td>\n",
       "      <td>0.3080</td>\n",
       "      <td>9</td>\n",
       "    </tr>\n",
       "    <tr>\n",
       "      <th>4175</th>\n",
       "      <td>F</td>\n",
       "      <td>0.625</td>\n",
       "      <td>0.485</td>\n",
       "      <td>0.150</td>\n",
       "      <td>1.0945</td>\n",
       "      <td>0.5310</td>\n",
       "      <td>0.2610</td>\n",
       "      <td>0.2960</td>\n",
       "      <td>10</td>\n",
       "    </tr>\n",
       "    <tr>\n",
       "      <th>4176</th>\n",
       "      <td>M</td>\n",
       "      <td>0.710</td>\n",
       "      <td>0.555</td>\n",
       "      <td>0.195</td>\n",
       "      <td>1.9485</td>\n",
       "      <td>0.9455</td>\n",
       "      <td>0.3765</td>\n",
       "      <td>0.4950</td>\n",
       "      <td>12</td>\n",
       "    </tr>\n",
       "  </tbody>\n",
       "</table>\n",
       "<p>4177 rows × 9 columns</p>\n",
       "</div>"
      ],
      "text/plain": [
       "     Sex  Length  Diameter  Height  Whole weight  Shucked weight  \\\n",
       "0      M   0.455     0.365   0.095        0.5140          0.2245   \n",
       "1      M   0.350     0.265   0.090        0.2255          0.0995   \n",
       "2      F   0.530     0.420   0.135        0.6770          0.2565   \n",
       "3      M   0.440     0.365   0.125        0.5160          0.2155   \n",
       "4      I   0.330     0.255   0.080        0.2050          0.0895   \n",
       "...   ..     ...       ...     ...           ...             ...   \n",
       "4172   F   0.565     0.450   0.165        0.8870          0.3700   \n",
       "4173   M   0.590     0.440   0.135        0.9660          0.4390   \n",
       "4174   M   0.600     0.475   0.205        1.1760          0.5255   \n",
       "4175   F   0.625     0.485   0.150        1.0945          0.5310   \n",
       "4176   M   0.710     0.555   0.195        1.9485          0.9455   \n",
       "\n",
       "      Viscera weight  Shell weight  Rings  \n",
       "0             0.1010        0.1500     15  \n",
       "1             0.0485        0.0700      7  \n",
       "2             0.1415        0.2100      9  \n",
       "3             0.1140        0.1550     10  \n",
       "4             0.0395        0.0550      7  \n",
       "...              ...           ...    ...  \n",
       "4172          0.2390        0.2490     11  \n",
       "4173          0.2145        0.2605     10  \n",
       "4174          0.2875        0.3080      9  \n",
       "4175          0.2610        0.2960     10  \n",
       "4176          0.3765        0.4950     12  \n",
       "\n",
       "[4177 rows x 9 columns]"
      ]
     },
     "execution_count": 3,
     "metadata": {},
     "output_type": "execute_result"
    }
   ],
   "source": [
    "df = pd.read_csv(\"../data/abalone.csv\")\n",
    "df"
   ]
  },
  {
   "cell_type": "markdown",
   "metadata": {},
   "source": [
    "## Preprocess"
   ]
  },
  {
   "cell_type": "code",
   "execution_count": 4,
   "metadata": {},
   "outputs": [],
   "source": [
    "def preprocess_data(df):\n",
    "    \"\"\"\n",
    "    Preprocess the input DataFrame by performing one-hot encoding,\n",
    "    outlier removal, feature scaling, and feature selection.\n",
    "\n",
    "    Args:\n",
    "        df (pd.DataFrame): The input DataFrame containing features and target.\n",
    "\n",
    "    Returns:\n",
    "        tuple: A tuple containing the training and testing sets for\n",
    "        features (X_train, X_test) and target (y_train, y_test).\n",
    "    \"\"\"\n",
    "    # Perform one-hot encoding\n",
    "    data = pd.get_dummies(df)\n",
    "\n",
    "    # Outlier removal\n",
    "    # Repeat your outlier removal steps here as functions for clarity.\n",
    "    outlier_conditions(data)\n",
    "\n",
    "    # Define features and target\n",
    "    X = data.drop(\"Rings\", axis=1)\n",
    "    y = data[\"Rings\"]\n",
    "\n",
    "    # Scaling\n",
    "    standard_scale = StandardScaler()\n",
    "    X_scaled = standard_scale.fit_transform(X)\n",
    "\n",
    "    # Feature selection\n",
    "    select_k_best = SelectKBest()\n",
    "    X_new = select_k_best.fit_transform(X_scaled, y)\n",
    "\n",
    "    # Split the dataset\n",
    "    X_train, X_test, y_train, y_test = train_test_split(X_new, y, test_size=0.25)\n",
    "\n",
    "    return X_train, X_test, y_train, y_test\n",
    "\n",
    "\n",
    "def outlier_conditions(data):\n",
    "    \"\"\"\n",
    "    Remove outliers from the DataFrame based on specific conditions\n",
    "    related to 'Viscera weight', 'Shell weight', 'Shucked weight',\n",
    "    'Diameter', and 'Height'.\n",
    "\n",
    "    Args:\n",
    "        data (pd.DataFrame): The input DataFrame from which outliers\n",
    "        will be removed.\n",
    "\n",
    "    Returns:\n",
    "        pd.DataFrame: The cleaned DataFrame with outliers removed.\n",
    "    \"\"\"\n",
    "    # Outlier removal based on the 'Viscera weight'\n",
    "    data.drop(\n",
    "        data[(data[\"Viscera weight\"] > 0.5) & (data[\"Rings\"] < 20)].index,\n",
    "        inplace=True,\n",
    "    )\n",
    "    data.drop(\n",
    "        data[(data[\"Viscera weight\"] < 0.5) & (data[\"Rings\"] > 25)].index,\n",
    "        inplace=True,\n",
    "    )\n",
    "\n",
    "    # Outlier removal based on the 'Shell weight'\n",
    "    data.drop(\n",
    "        data[(data[\"Shell weight\"] > 0.6) & (data[\"Rings\"] < 25)].index,\n",
    "        inplace=True,\n",
    "    )\n",
    "    data.drop(\n",
    "        data[(data[\"Shell weight\"] < 0.8) & (data[\"Rings\"] > 25)].index,\n",
    "        inplace=True,\n",
    "    )\n",
    "\n",
    "    # Outlier removal based on the 'Shucked weight'\n",
    "    data.drop(\n",
    "        data[(data[\"Shucked weight\"] >= 1) & (data[\"Rings\"] < 20)].index,\n",
    "        inplace=True,\n",
    "    )\n",
    "    data.drop(\n",
    "        data[(data[\"Shucked weight\"] < 1) & (data[\"Rings\"] > 20)].index,\n",
    "        inplace=True,\n",
    "    )\n",
    "\n",
    "    # Outlier removal based on the 'Diameter'\n",
    "    data.drop(\n",
    "        data[(data[\"Diameter\"] < 0.1) & (data[\"Rings\"] < 5)].index,\n",
    "        inplace=True,\n",
    "    )\n",
    "    data.drop(\n",
    "        data[(data[\"Diameter\"] < 0.6) & (data[\"Rings\"] > 25)].index,\n",
    "        inplace=True,\n",
    "    )\n",
    "    data.drop(\n",
    "        data[(data[\"Diameter\"] >= 0.6) & (data[\"Rings\"] < 25)].index,\n",
    "        inplace=True,\n",
    "    )\n",
    "\n",
    "    # Outlier removal based on the 'Height'\n",
    "    data.drop(data[(data[\"Height\"] > 0.4) & (data[\"Rings\"] < 15)].index, inplace=True)\n",
    "    data.drop(data[(data[\"Height\"] < 0.4) & (data[\"Rings\"] > 25)].index, inplace=True)\n",
    "\n",
    "    return data"
   ]
  },
  {
   "cell_type": "code",
   "execution_count": 5,
   "metadata": {},
   "outputs": [],
   "source": [
    "# Preprocess the data\n",
    "X_train, X_test, y_train, y_test = preprocess_data(df)"
   ]
  },
  {
   "cell_type": "code",
   "execution_count": 18,
   "metadata": {},
   "outputs": [
    {
     "name": "stderr",
     "output_type": "stream",
     "text": [
      "2024/10/24 19:56:26 WARNING mlflow.utils.autologging_utils: You are using an unsupported version of sklearn. If you encounter errors during autologging, try upgrading / downgrading sklearn to a supported version, or try upgrading MLflow.\n",
      "2024/10/24 19:56:26 WARNING mlflow.sklearn: Failed to log training dataset information to MLflow Tracking. Reason: 'Series' object has no attribute 'flatten'\n"
     ]
    },
    {
     "name": "stdout",
     "output_type": "stream",
     "text": [
      "LR    : RMSE on Test Set = 206.615167\n"
     ]
    },
    {
     "name": "stderr",
     "output_type": "stream",
     "text": [
      "2024/10/24 19:56:37 WARNING mlflow.sklearn: Failed to log training dataset information to MLflow Tracking. Reason: 'Series' object has no attribute 'flatten'\n"
     ]
    },
    {
     "name": "stdout",
     "output_type": "stream",
     "text": [
      "Ridge    : RMSE on Test Set = 206.692086\n"
     ]
    },
    {
     "name": "stderr",
     "output_type": "stream",
     "text": [
      "2024/10/24 19:56:47 WARNING mlflow.sklearn: Failed to log training dataset information to MLflow Tracking. Reason: 'Series' object has no attribute 'flatten'\n"
     ]
    },
    {
     "name": "stdout",
     "output_type": "stream",
     "text": [
      "SVR    : RMSE on Test Set = 206.938112\n"
     ]
    },
    {
     "name": "stderr",
     "output_type": "stream",
     "text": [
      "2024/10/24 19:57:02 WARNING mlflow.sklearn: Failed to log training dataset information to MLflow Tracking. Reason: 'Series' object has no attribute 'flatten'\n"
     ]
    },
    {
     "name": "stdout",
     "output_type": "stream",
     "text": [
      "RF    : RMSE on Test Set = 200.564650\n"
     ]
    },
    {
     "name": "stderr",
     "output_type": "stream",
     "text": [
      "2024/10/24 19:57:19 WARNING mlflow.sklearn: Failed to log training dataset information to MLflow Tracking. Reason: 'Series' object has no attribute 'flatten'\n"
     ]
    },
    {
     "name": "stdout",
     "output_type": "stream",
     "text": [
      "GB    : RMSE on Test Set = 203.082447\n"
     ]
    },
    {
     "name": "stderr",
     "output_type": "stream",
     "text": [
      "2024/10/24 19:57:32 WARNING mlflow.sklearn: Failed to log training dataset information to MLflow Tracking. Reason: 'Series' object has no attribute 'flatten'\n"
     ]
    },
    {
     "name": "stdout",
     "output_type": "stream",
     "text": [
      "KNN    : RMSE on Test Set = 217.182101\n",
      "Best model is RF with RMSE 200.564650\n"
     ]
    },
    {
     "name": "stderr",
     "output_type": "stream",
     "text": [
      "Registered model 'RF' already exists. Creating a new version of this model...\n",
      "2024/10/24 19:57:47 INFO mlflow.tracking._model_registry.client: Waiting up to 300 seconds for model version to finish creation. Model name: RF, version 2\n"
     ]
    },
    {
     "name": "stdout",
     "output_type": "stream",
     "text": [
      "Best model saved as best_model.pkl\n"
     ]
    },
    {
     "name": "stderr",
     "output_type": "stream",
     "text": [
      "Created version '2' of model 'RF'.\n"
     ]
    }
   ],
   "source": [
    "import pickle\n",
    "import mlflow.sklearn\n",
    "\n",
    "# Enable MLflow autologging for scikit-learn\n",
    "mlflow.sklearn.autolog()\n",
    "\n",
    "\n",
    "# Function to compute RMSE on the test set\n",
    "def rmse_test(model, X_train, X_test, y_train, y_test):\n",
    "    model.fit(X_train, y_train)\n",
    "    y_pred = model.predict(X_test)\n",
    "    rmse = np.sqrt(mean_squared_error(y_test, y_pred))\n",
    "    return rmse * 100\n",
    "\n",
    "\n",
    "# List of models to evaluate\n",
    "models = [\n",
    "    LinearRegression(),\n",
    "    Ridge(),\n",
    "    SVR(),\n",
    "    RandomForestRegressor(),\n",
    "    GradientBoostingRegressor(),\n",
    "    KNeighborsRegressor(n_neighbors=4),\n",
    "]\n",
    "\n",
    "names = [\"LR\", \"Ridge\", \"SVR\", \"RF\", \"GB\", \"KNN\"]\n",
    "\n",
    "# Initialize variables to track the best model\n",
    "best_model = None\n",
    "best_model_name = None\n",
    "best_rmse = float(\"inf\")  # Set the best RMSE to infinity initially\n",
    "\n",
    "# Start an MLflow experiment\n",
    "mlflow.set_experiment(\"model_evaluation_experiment\")\n",
    "\n",
    "# Evaluate each model, log the results, and track the best model\n",
    "for model, name in zip(models, names):\n",
    "    with mlflow.start_run(run_name=name):\n",
    "        test_rmse = rmse_test(model, X_train, X_test, y_train, y_test)\n",
    "        print(f\"{name}    : RMSE on Test Set = {test_rmse:.6f}\")\n",
    "\n",
    "        # Log model and metrics to MLflow\n",
    "        mlflow.log_param(\"model_name\", name)\n",
    "        mlflow.log_metric(\"rmse\", test_rmse)\n",
    "        mlflow.sklearn.log_model(model, artifact_path=f\"{name}_model\")\n",
    "\n",
    "        # If this model has a lower RMSE, it's the best one so far\n",
    "        if test_rmse < best_rmse:\n",
    "            best_rmse = test_rmse\n",
    "            best_model = model\n",
    "            best_model_name = name\n",
    "\n",
    "# Register the best model with MLflow and save as a pickle file\n",
    "if best_model is not None:\n",
    "    with mlflow.start_run(run_name=\"best_model\"):\n",
    "        print(f\"Best model is {best_model_name} with RMSE {best_rmse:.6f}\")\n",
    "        mlflow.log_param(\"best_model\", best_model_name)\n",
    "        mlflow.log_metric(\"best_rmse\", best_rmse)\n",
    "\n",
    "        # Register the best model in MLflow's model registry\n",
    "        result = mlflow.sklearn.log_model(\n",
    "            best_model,\n",
    "            artifact_path=\"best_model\",\n",
    "            registered_model_name=best_model_name,\n",
    "        )\n",
    "\n",
    "        # Save the best model as a pickle file\n",
    "        with open(f\"best_model.pkl\", \"wb\") as f:\n",
    "            pickle.dump(best_model, f)\n",
    "        print(f\"Best model saved as best_model.pkl\")"
   ]
  },
  {
   "cell_type": "code",
   "execution_count": 17,
   "metadata": {},
   "outputs": [
    {
     "name": "stdout",
     "output_type": "stream",
     "text": [
      "^C\n"
     ]
    }
   ],
   "source": [
    "!mlflow ui"
   ]
  },
  {
   "cell_type": "markdown",
   "metadata": {},
   "source": [
    "## Switch Production"
   ]
  },
  {
   "cell_type": "code",
   "execution_count": 16,
   "metadata": {},
   "outputs": [
    {
     "data": {
      "text/plain": [
       "<ModelVersion: aliases=[], creation_timestamp=1729791772589, current_stage='Production', description=None, last_updated_timestamp=1729792134211, name='LR', run_id='d7fee5cc48644eddbd8f2f615de56063', run_link=None, source='file:///c:/Users/aubry/OneDrive/Documents/mlops_hec/homework/xhec-mlops-project-student/notebooks/mlruns/777336618133128678/d7fee5cc48644eddbd8f2f615de56063/artifacts/best_model', status='READY', status_message=None, tags={}, user_id=None, version=2>"
      ]
     },
     "execution_count": 16,
     "metadata": {},
     "output_type": "execute_result"
    }
   ],
   "source": [
    "from mlflow import MlflowClient\n",
    "\n",
    "client = MlflowClient()\n",
    "\n",
    "# Get the registered model info\n",
    "model_info = client.get_registered_model(best_model_name)\n",
    "\n",
    "# Get the latest version of the registered model\n",
    "model_version = model_info.latest_versions[0].version  # Access the latest version\n",
    "\n",
    "# Transition the model to the production stage\n",
    "client.transition_model_version_stage(\n",
    "    name=best_model_name, version=model_version, stage=\"Production\"\n",
    ")"
   ]
  },
  {
   "cell_type": "markdown",
   "metadata": {},
   "source": [
    "http://localhost:5002/#/models"
   ]
  }
 ],
 "metadata": {
  "kernelspec": {
   "display_name": "mlops_hw",
   "language": "python",
   "name": "python3"
  },
  "language_info": {
   "codemirror_mode": {
    "name": "ipython",
    "version": 3
   },
   "file_extension": ".py",
   "mimetype": "text/x-python",
   "name": "python",
   "nbconvert_exporter": "python",
   "pygments_lexer": "ipython3",
   "version": "3.10.15"
  },
  "orig_nbformat": 4
 },
 "nbformat": 4,
 "nbformat_minor": 2
}
